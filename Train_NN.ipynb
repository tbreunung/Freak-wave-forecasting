{
 "cells": [
  {
   "cell_type": "code",
   "execution_count": null,
   "id": "b5df149a-3d9c-4495-b23c-22184f1a5cfb",
   "metadata": {},
   "outputs": [],
   "source": [
    "import os\n",
    "import IPython\n",
    "import IPython.display\n",
    "#import matplotlib as mpl\n",
    "import matplotlib.pyplot as plt\n",
    "import numpy as np\n",
    "#import time\n",
    "#import math\n",
    "from tensorflow import keras\n",
    "#import seaborn as sns\n",
    "\n",
    "#import random\n",
    "import tensorflow as tf\n",
    "\n"
   ]
  },
  {
   "cell_type": "code",
   "execution_count": null,
   "id": "46f3e8d3-c7ad-42bb-b9ac-d39d9614f7ef",
   "metadata": {},
   "outputs": [],
   "source": [
    "file_str=\"RWs_H_g_2p2_tadv_5min\""
   ]
  },
  {
   "cell_type": "code",
   "execution_count": null,
   "id": "b8d124a0-753b-48d6-bc7e-ca787deadd67",
   "metadata": {},
   "outputs": [],
   "source": [
    "\n",
    "\n",
    "LSTM_save_name=file_str+\"/best_LSTM_\"+file_str +\".h5\"\n",
    "\n"
   ]
  },
  {
   "cell_type": "code",
   "execution_count": null,
   "id": "479d7218-3ecb-4164-8f70-120e6ff1009d",
   "metadata": {},
   "outputs": [],
   "source": [
    "data=np.load('Data/Prepared/'+file_str+\".npz\")\n",
    "\n",
    "for vars in data:\n",
    "    print(vars)\n",
    "\n",
    "wave_data_train=data[\"wave_data_train\"]\n",
    "wave_data_test=data[\"wave_data_test\"]\n",
    "label_train=data[\"label_train\"]\n",
    "label_test=data[\"label_test\"]\n",
    "num_classes=2"
   ]
  },
  {
   "cell_type": "code",
   "execution_count": null,
   "id": "95f528cb-0940-4e4d-9e6a-c8c0092e404a",
   "metadata": {},
   "outputs": [],
   "source": [
    "print(wave_data_train.shape)\n",
    "print(wave_data_test.shape)\n"
   ]
  },
  {
   "cell_type": "markdown",
   "id": "fb639bb4",
   "metadata": {},
   "source": [
    "## LSTM"
   ]
  },
  {
   "cell_type": "code",
   "execution_count": null,
   "id": "82343ae2-921b-4f01-aebc-8cf4156a9cba",
   "metadata": {},
   "outputs": [],
   "source": [
    "batch_size=32\n"
   ]
  },
  {
   "cell_type": "code",
   "execution_count": null,
   "id": "cf8d782d",
   "metadata": {},
   "outputs": [],
   "source": [
    "\n",
    "\n",
    "model_LSTM = keras.Sequential()\n",
    "model_LSTM.add(keras.layers.LSTM(10, input_shape = wave_data_train.shape[1:], return_sequences=True))\n",
    "#model_LSTM.add(keras.layers.LSTM(10, batch_input_shape=(batch_size, n_timesteps, 1), return_sequences=True))\n",
    "model_LSTM.add(keras.layers.BatchNormalization())\n",
    "#model_LSTM.add(keras.layers.Dropout(0.05))\n",
    "#model_LSTM.add(keras.layers.Dense(50, activation=\"sigmoid\"))\n",
    "\n",
    "\n",
    "model_LSTM.add(keras.layers.LSTM(10, return_sequences=True)) #, return_sequences=True\n",
    "model_LSTM.add(keras.layers.BatchNormalization())\n",
    "#model_LSTM.add(keras.layers.Dropout(0.05))\n",
    "#model_LSTM.add(keras.layers.Dense(num_classes, activation=\"sigmoid\"))\n",
    "\n",
    "\n",
    "model_LSTM.add(keras.layers.LSTM(10, return_sequences=True))#, return_sequences=True\n",
    "model_LSTM.add(keras.layers.BatchNormalization())\n",
    "#model_LSTM.add(keras.layers.Dropout(0.05))\n",
    "#model_LSTM.add(keras.layers.Dense(num_classes, activation=\"sigmoid\"))\n",
    "\n",
    "#model_LSTM.add(keras.layers.LSTM(10, return_sequences=True))#, return_sequences=True\n",
    "#model_LSTM.add(keras.layers.BatchNormalization())\n",
    "#model_LSTM.add(keras.layers.Dense(num_classes, activation=\"sigmoid\"))\n",
    "#model_LSTM.add(keras.layers.Dropout(0.05))\n",
    "\n",
    "#model_LSTM.add(keras.layers.LSTM(10, return_sequences=True))#, return_sequences=True\n",
    "#model_LSTM.add(keras.layers.BatchNormalization())\n",
    "#model_LSTM.add(keras.layers.Dropout(0.05))\n",
    "#model_LSTM.add(keras.layers.Dense(num_classes, activation=\"sigmoid\"))\n",
    "\n",
    "model_LSTM.add(keras.layers.LSTM(10))\n",
    "model_LSTM.add(keras.layers.BatchNormalization())\n",
    "model_LSTM.add(keras.layers.Dropout(0.05))\n",
    "model_LSTM.add(keras.layers.Dense(num_classes, activation=\"sigmoid\"))#\n",
    "\n",
    "\n",
    "model_LSTM.compile(loss=\"sparse_categorical_crossentropy\",\n",
    "            metrics=[\"sparse_categorical_accuracy\"],\n",
    "            optimizer=\"adam\")\n",
    "              #optimizer=tf.keras.optimizers.Adam(learning_rate=0.0001))\n",
    "#, optimizer=\"adam\")#tf.optimizers.SGD(learning_rate=0.001, momentum=0.1),) #\"adam\"\n",
    "\n",
    "model_LSTM.summary()"
   ]
  },
  {
   "cell_type": "code",
   "execution_count": null,
   "id": "ac1bf701",
   "metadata": {},
   "outputs": [],
   "source": [
    "callbacks = [\n",
    "    keras.callbacks.ModelCheckpoint(\n",
    "        LSTM_save_name, save_best_only=True, monitor=\"val_loss\"#\"val_sparse_categorical_accuracy\"#\"val_loss\"\n",
    "    ),\n",
    "    #keras.callbacks.ReduceLROnPlateau(\n",
    "    #    monitor=\"val_loss\", factor=0.5, patience=20, min_lr=0.0001\n",
    "    #),\n",
    "    keras.callbacks.LearningRateScheduler(\n",
    "        tf.keras.optimizers.schedules.CosineDecay(\n",
    "            0.001, #Initial lr\n",
    "            50, #decay_steps\n",
    "            #warmup_target=0.001,\n",
    "            #warmup_step=10            \n",
    "        )\n",
    "    ),\n",
    "    keras.callbacks.EarlyStopping(monitor=\"val_loss\", patience=50, verbose=1), #\"val_loss\"\n",
    "]\n",
    "\n",
    "history_LSTM=model_LSTM.fit(wave_data_train, label_train,batch_size=batch_size,   epochs=500, validation_split=0.2, callbacks=callbacks, \n",
    "          verbose=1)"
   ]
  },
  {
   "cell_type": "code",
   "execution_count": null,
   "id": "b1b57195",
   "metadata": {},
   "outputs": [],
   "source": [
    "\n",
    "model_LSTM = keras.models.load_model(LSTM_save_name)\n",
    "\n",
    "test_loss, test_acc = model_LSTM.evaluate(wave_data_test, label_test)\n",
    "print(\"Test accuracy\", test_acc)\n",
    "print(\"Test loss\", test_loss)"
   ]
  },
  {
   "cell_type": "code",
   "execution_count": null,
   "id": "2bc79df4-85a1-4d5d-872f-d1b3ef314271",
   "metadata": {},
   "outputs": [],
   "source": [
    "metric = \"sparse_categorical_accuracy\"\n",
    "plt.figure()\n",
    "plt.plot(history_LSTM.history[metric])\n",
    "plt.plot(history_LSTM.history[\"val_\" + metric])\n",
    "plt.title(\"model \" + metric)\n",
    "plt.ylabel(metric, fontsize=\"large\")\n",
    "plt.xlabel(\"epoch\", fontsize=\"large\")\n",
    "plt.legend([\"train\", \"val\"], loc=\"best\")\n",
    "plt.show()\n",
    "plt.close()"
   ]
  },
  {
   "cell_type": "code",
   "execution_count": null,
   "id": "eb995107-4bf6-4d2a-8333-291a45a6a97f",
   "metadata": {},
   "outputs": [],
   "source": [
    "save_history_plot=True\n",
    "if save_history_plot ==True:\n",
    "    plt.figure()\n",
    "    plt.plot(history_LSTM.history[metric])\n",
    "    plt.plot(history_LSTM.history[\"val_\" + metric])\n",
    "    plt.title(\"model \" + metric)\n",
    "    plt.ylabel(metric, fontsize=\"large\")\n",
    "    plt.xlabel(\"epoch\", fontsize=\"large\")\n",
    "    plt.legend([\"train\", \"val\"], loc=\"best\")\n",
    "    filename=os.getcwd()+'/'+file_str+'/training_histrory_'+file_str+'.jpg'\n",
    "    plt.savefig(filename,dpi=199)\n",
    "    plt.close()\n",
    "    plt.clf()"
   ]
  },
  {
   "cell_type": "code",
   "execution_count": null,
   "id": "ffa6dcec-c74b-458b-a889-86a020fbc2b6",
   "metadata": {},
   "outputs": [],
   "source": []
  }
 ],
 "metadata": {
  "kernelspec": {
   "display_name": "Python 3 (ipykernel)",
   "language": "python",
   "name": "python3"
  },
  "language_info": {
   "codemirror_mode": {
    "name": "ipython",
    "version": 3
   },
   "file_extension": ".py",
   "mimetype": "text/x-python",
   "name": "python",
   "nbconvert_exporter": "python",
   "pygments_lexer": "ipython3",
   "version": "3.10.4"
  }
 },
 "nbformat": 4,
 "nbformat_minor": 5
}
